{
 "cells": [
  {
   "cell_type": "code",
   "execution_count": 6,
   "metadata": {},
   "outputs": [],
   "source": [
    "import pandas as pd\n",
    "import numpy as np\n",
    "\n",
    "# read csv\n",
    "df = pd.read_csv('class_and_pollution_new2.csv')\n",
    "\n",
    "# print(df.head())\n",
    "# create geojson file from dataframe\n",
    "def df_to_geojson(df, properties, lat='lat', lon='lon'):\n",
    "    geojson = {'type': 'FeatureCollection', 'features': []}\n",
    "    for _, row in df.iterrows():\n",
    "        feature = {'type': 'Feature',\n",
    "                   'properties': {},\n",
    "                   'geometry': {'type': 'Point',\n",
    "                                'coordinates': [row[lon], row[lat]]}}\n",
    "        for prop in properties:\n",
    "            feature['properties'][prop] = row[prop]\n",
    "        geojson['features'].append(feature)\n",
    "    return geojson\n",
    "# specify the properties to include in the geojson\n",
    "properties = ['label','lat','lon', 'conf' ,'PM25_Week1', 'PM25_Week1', 'PM25_Week2', 'PM25_Week3', 'PM25_Week4', 'PM25_Week5', 'PM25_Week6', 'PM25_Week7', 'PM25_Week8', 'PM25_Week9', 'PM25_Week10',\n",
    "              'PM25_Week11', 'PM25_Week12', 'PM25_Week13', 'PM25_Week14', 'PM25_Week15', 'PM25_Week16', 'PM25_Week17', 'PM25_Week18', 'PM25_Week19', 'PM25_Week20',\n",
    "              'PM25_Week21', 'PM25_Week22', 'PM10_Week1', 'PM10_Week2', 'PM10_Week3', 'PM10_Week4', 'PM10_Week5', 'PM10_Week6', 'PM10_Week7', 'PM10_Week8', 'PM10_Week9', 'PM10_Week10',\n",
    "              'PM10_Week11', 'PM10_Week12', 'PM10_Week13', 'PM10_Week14', 'PM10_Week15', 'PM10_Week16', 'PM10_Week17', 'PM10_Week18', 'PM10_Week19', 'PM10_Week20',\n",
    "              'PM10_Week21', 'PM10_Week22', ]\n",
    "# convert dataframe to geojson\n",
    "geojson_data = df_to_geojson(df, properties)\n",
    "# write geojson to file\n",
    "import json\n",
    "with open('class_and_pollution_new2.geojson', 'w') as f:\n",
    "    json.dump(geojson_data, f)\n",
    "\n"
   ]
  }
 ],
 "metadata": {
  "kernelspec": {
   "display_name": "base",
   "language": "python",
   "name": "python3"
  },
  "language_info": {
   "codemirror_mode": {
    "name": "ipython",
    "version": 3
   },
   "file_extension": ".py",
   "mimetype": "text/x-python",
   "name": "python",
   "nbconvert_exporter": "python",
   "pygments_lexer": "ipython3",
   "version": "3.13.2"
  }
 },
 "nbformat": 4,
 "nbformat_minor": 2
}
